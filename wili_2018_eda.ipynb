{
 "cells": [
  {
   "cell_type": "code",
   "execution_count": 1,
   "metadata": {},
   "outputs": [],
   "source": [
    "%load_ext autoreload\n",
    "%autoreload 2"
   ]
  },
  {
   "cell_type": "code",
   "execution_count": 2,
   "metadata": {},
   "outputs": [],
   "source": [
    "from datasets import load_dataset"
   ]
  },
  {
   "cell_type": "code",
   "execution_count": 3,
   "metadata": {},
   "outputs": [
    {
     "data": {
      "text/plain": [
       "DatasetDict({\n",
       "    train: Dataset({\n",
       "        features: ['sentence', 'label'],\n",
       "        num_rows: 117500\n",
       "    })\n",
       "    test: Dataset({\n",
       "        features: ['sentence', 'label'],\n",
       "        num_rows: 117500\n",
       "    })\n",
       "})"
      ]
     },
     "execution_count": 3,
     "metadata": {},
     "output_type": "execute_result"
    }
   ],
   "source": [
    "dataset = load_dataset(\"MartinThoma/wili_2018\", trust_remote_code=True)\n",
    "dataset"
   ]
  },
  {
   "cell_type": "code",
   "execution_count": 4,
   "metadata": {},
   "outputs": [
    {
     "data": {
      "text/html": [
       "<div>\n",
       "<style scoped>\n",
       "    .dataframe tbody tr th:only-of-type {\n",
       "        vertical-align: middle;\n",
       "    }\n",
       "\n",
       "    .dataframe tbody tr th {\n",
       "        vertical-align: top;\n",
       "    }\n",
       "\n",
       "    .dataframe thead th {\n",
       "        text-align: right;\n",
       "    }\n",
       "</style>\n",
       "<table border=\"1\" class=\"dataframe\">\n",
       "  <thead>\n",
       "    <tr style=\"text-align: right;\">\n",
       "      <th></th>\n",
       "      <th>sentence</th>\n",
       "      <th>label</th>\n",
       "    </tr>\n",
       "  </thead>\n",
       "  <tbody>\n",
       "    <tr>\n",
       "      <th>0</th>\n",
       "      <td>Klement Gottwaldi surnukeha palsameeriti ning ...</td>\n",
       "      <td>112</td>\n",
       "    </tr>\n",
       "    <tr>\n",
       "      <th>1</th>\n",
       "      <td>Sebes, Joseph; Pereira Thomas (1961) (på eng)....</td>\n",
       "      <td>93</td>\n",
       "    </tr>\n",
       "    <tr>\n",
       "      <th>2</th>\n",
       "      <td>भारतीय स्वातन्त्र्य आन्दोलन राष्ट्रीय एवम क्षे...</td>\n",
       "      <td>83</td>\n",
       "    </tr>\n",
       "    <tr>\n",
       "      <th>3</th>\n",
       "      <td>Après lo cort periòde d'establiment a Basilèa,...</td>\n",
       "      <td>176</td>\n",
       "    </tr>\n",
       "    <tr>\n",
       "      <th>4</th>\n",
       "      <td>ถนนเจริญกรุง (อักษรโรมัน: Thanon Charoen Krung...</td>\n",
       "      <td>42</td>\n",
       "    </tr>\n",
       "    <tr>\n",
       "      <th>...</th>\n",
       "      <td>...</td>\n",
       "      <td>...</td>\n",
       "    </tr>\n",
       "    <tr>\n",
       "      <th>117495</th>\n",
       "      <td>Nekoliko prašćića je rođeno na farmi Arableovi...</td>\n",
       "      <td>52</td>\n",
       "    </tr>\n",
       "    <tr>\n",
       "      <th>117496</th>\n",
       "      <td>Tahiti of Otaheite is 'n eilandj in 't zuje va...</td>\n",
       "      <td>147</td>\n",
       "    </tr>\n",
       "    <tr>\n",
       "      <th>117497</th>\n",
       "      <td>同年，太后崩。絳侯周勃、陳平諸臣共謀誅呂。朱虛侯章已殺呂產，文帝使人持節勞章。朱虛侯欲奪節信...</td>\n",
       "      <td>172</td>\n",
       "    </tr>\n",
       "    <tr>\n",
       "      <th>117498</th>\n",
       "      <td>I det mindste opnåede Venedig den 18. april 14...</td>\n",
       "      <td>62</td>\n",
       "    </tr>\n",
       "    <tr>\n",
       "      <th>117499</th>\n",
       "      <td>KR tók fljótlega að sér að bjóða uppá æfingar ...</td>\n",
       "      <td>137</td>\n",
       "    </tr>\n",
       "  </tbody>\n",
       "</table>\n",
       "<p>117500 rows × 2 columns</p>\n",
       "</div>"
      ],
      "text/plain": [
       "                                                 sentence  label\n",
       "0       Klement Gottwaldi surnukeha palsameeriti ning ...    112\n",
       "1       Sebes, Joseph; Pereira Thomas (1961) (på eng)....     93\n",
       "2       भारतीय स्वातन्त्र्य आन्दोलन राष्ट्रीय एवम क्षे...     83\n",
       "3       Après lo cort periòde d'establiment a Basilèa,...    176\n",
       "4       ถนนเจริญกรุง (อักษรโรมัน: Thanon Charoen Krung...     42\n",
       "...                                                   ...    ...\n",
       "117495  Nekoliko prašćića je rođeno na farmi Arableovi...     52\n",
       "117496  Tahiti of Otaheite is 'n eilandj in 't zuje va...    147\n",
       "117497  同年，太后崩。絳侯周勃、陳平諸臣共謀誅呂。朱虛侯章已殺呂產，文帝使人持節勞章。朱虛侯欲奪節信...    172\n",
       "117498  I det mindste opnåede Venedig den 18. april 14...     62\n",
       "117499  KR tók fljótlega að sér að bjóða uppá æfingar ...    137\n",
       "\n",
       "[117500 rows x 2 columns]"
      ]
     },
     "execution_count": 4,
     "metadata": {},
     "output_type": "execute_result"
    }
   ],
   "source": [
    "df_train = dataset['train'].to_pandas()\n",
    "df_train"
   ]
  },
  {
   "cell_type": "code",
   "execution_count": 5,
   "metadata": {},
   "outputs": [
    {
     "data": {
      "text/html": [
       "<div>\n",
       "<style scoped>\n",
       "    .dataframe tbody tr th:only-of-type {\n",
       "        vertical-align: middle;\n",
       "    }\n",
       "\n",
       "    .dataframe tbody tr th {\n",
       "        vertical-align: top;\n",
       "    }\n",
       "\n",
       "    .dataframe thead th {\n",
       "        text-align: right;\n",
       "    }\n",
       "</style>\n",
       "<table border=\"1\" class=\"dataframe\">\n",
       "  <thead>\n",
       "    <tr style=\"text-align: right;\">\n",
       "      <th></th>\n",
       "      <th>sentence</th>\n",
       "      <th>label</th>\n",
       "    </tr>\n",
       "  </thead>\n",
       "  <tbody>\n",
       "    <tr>\n",
       "      <th>0</th>\n",
       "      <td>Ne l fin de l seclo XIX l Japon era inda çconh...</td>\n",
       "      <td>8</td>\n",
       "    </tr>\n",
       "    <tr>\n",
       "      <th>1</th>\n",
       "      <td>Schiedam is gelegen tussen Rotterdam en Vlaard...</td>\n",
       "      <td>185</td>\n",
       "    </tr>\n",
       "    <tr>\n",
       "      <th>2</th>\n",
       "      <td>ГIурусаз батальонал, гьоркьор гIарадабиги лъун...</td>\n",
       "      <td>28</td>\n",
       "    </tr>\n",
       "    <tr>\n",
       "      <th>3</th>\n",
       "      <td>ರಾಜ್ಯಶಾಸ್ತ್ರದ ಪಿತಾಮಹೆ ಅರಿಸ್ಟಾಟಲ್. ರಾಜ್ಯಶಾಸ್ತ್ರ...</td>\n",
       "      <td>231</td>\n",
       "    </tr>\n",
       "    <tr>\n",
       "      <th>4</th>\n",
       "      <td>Halukum adalah kelenjar tiroid nang menonjol d...</td>\n",
       "      <td>121</td>\n",
       "    </tr>\n",
       "    <tr>\n",
       "      <th>...</th>\n",
       "      <td>...</td>\n",
       "      <td>...</td>\n",
       "    </tr>\n",
       "    <tr>\n",
       "      <th>117495</th>\n",
       "      <td>Wakati wa mimba,homa ya Q ni vigumu kutibu kwa...</td>\n",
       "      <td>32</td>\n",
       "    </tr>\n",
       "    <tr>\n",
       "      <th>117496</th>\n",
       "      <td>گیلون یک ته تاریخی منطقه‌ سفیدرود دلتای طرف ای...</td>\n",
       "      <td>1</td>\n",
       "    </tr>\n",
       "    <tr>\n",
       "      <th>117497</th>\n",
       "      <td>តាម​រយៈ​ការ​ចិញ្ចឹម​មនោសញ្ចេតនា​ជាតិនិយម​បែប​ន...</td>\n",
       "      <td>73</td>\n",
       "    </tr>\n",
       "    <tr>\n",
       "      <th>117498</th>\n",
       "      <td>روس اک وفاق اے تے 1 مارچ 2008ء توں اسدیاں 83 و...</td>\n",
       "      <td>103</td>\n",
       "    </tr>\n",
       "    <tr>\n",
       "      <th>117499</th>\n",
       "      <td>Chute annaée-lo, la Normaundie n'est pus recou...</td>\n",
       "      <td>99</td>\n",
       "    </tr>\n",
       "  </tbody>\n",
       "</table>\n",
       "<p>117500 rows × 2 columns</p>\n",
       "</div>"
      ],
      "text/plain": [
       "                                                 sentence  label\n",
       "0       Ne l fin de l seclo XIX l Japon era inda çconh...      8\n",
       "1       Schiedam is gelegen tussen Rotterdam en Vlaard...    185\n",
       "2       ГIурусаз батальонал, гьоркьор гIарадабиги лъун...     28\n",
       "3       ರಾಜ್ಯಶಾಸ್ತ್ರದ ಪಿತಾಮಹೆ ಅರಿಸ್ಟಾಟಲ್. ರಾಜ್ಯಶಾಸ್ತ್ರ...    231\n",
       "4       Halukum adalah kelenjar tiroid nang menonjol d...    121\n",
       "...                                                   ...    ...\n",
       "117495  Wakati wa mimba,homa ya Q ni vigumu kutibu kwa...     32\n",
       "117496  گیلون یک ته تاریخی منطقه‌ سفیدرود دلتای طرف ای...      1\n",
       "117497  តាម​រយៈ​ការ​ចិញ្ចឹម​មនោសញ្ចេតនា​ជាតិនិយម​បែប​ន...     73\n",
       "117498  روس اک وفاق اے تے 1 مارچ 2008ء توں اسدیاں 83 و...    103\n",
       "117499  Chute annaée-lo, la Normaundie n'est pus recou...     99\n",
       "\n",
       "[117500 rows x 2 columns]"
      ]
     },
     "execution_count": 5,
     "metadata": {},
     "output_type": "execute_result"
    }
   ],
   "source": [
    "df_test = dataset['test'].to_pandas()\n",
    "df_test"
   ]
  },
  {
   "cell_type": "code",
   "execution_count": 6,
   "metadata": {},
   "outputs": [
    {
     "name": "stdout",
     "output_type": "stream",
     "text": [
      "Der Ort ist bekannt für seine lebendige Volkskultur, vor allem die Volksmusik (spelmansmusik). Im Sommer werden mehrere Festivals abgehalten, u. a. Musik vid Siljan und Rättviksdansen.\n",
      "31\n",
      "deu\n",
      "German\n"
     ]
    }
   ],
   "source": [
    "from utils import translate_iso_639_3_to_full_name\n",
    "\n",
    "\n",
    "idx = 11111\n",
    "\n",
    "sentence = df_train.iloc[idx][\"sentence\"]\n",
    "label = df_train.iloc[idx][\"label\"]\n",
    "iso369_3 = dataset[\"train\"].features[\"label\"].int2str(int(label))\n",
    "lang_name = translate_iso_639_3_to_full_name(iso369_3)\n",
    "\n",
    "print(\n",
    "    sentence,\n",
    "    label,\n",
    "    iso369_3,\n",
    "    lang_name,\n",
    "    sep=\"\\n\"\n",
    ")"
   ]
  },
  {
   "cell_type": "code",
   "execution_count": 7,
   "metadata": {},
   "outputs": [],
   "source": [
    "df_train[\"label_ISO369-3\"] = df_train[\"label\"].apply(lambda x: dataset[\"train\"].features[\"label\"].int2str(int(x)))\n",
    "df_test[\"label_ISO369-3\"] = df_test[\"label\"].apply(lambda x: dataset[\"test\"].features[\"label\"].int2str(int(x)))"
   ]
  },
  {
   "cell_type": "code",
   "execution_count": 8,
   "metadata": {},
   "outputs": [],
   "source": [
    "df_train[\"lang_name\"] = df_train[\"label_ISO369-3\"].apply(lambda x: translate_iso_639_3_to_full_name(x))\n",
    "df_test[\"lang_name\"] = df_test[\"label_ISO369-3\"].apply(lambda x: translate_iso_639_3_to_full_name(x))"
   ]
  },
  {
   "cell_type": "code",
   "execution_count": 9,
   "metadata": {},
   "outputs": [
    {
     "data": {
      "text/plain": [
       "(np.int64(0), np.int64(0))"
      ]
     },
     "execution_count": 9,
     "metadata": {},
     "output_type": "execute_result"
    }
   ],
   "source": [
    "df_train[\"label_ISO369-3\"].isna().sum(), df_test[\"label_ISO369-3\"].isna().sum()"
   ]
  },
  {
   "cell_type": "code",
   "execution_count": 10,
   "metadata": {},
   "outputs": [
    {
     "data": {
      "text/plain": [
       "(np.int64(2500), np.int64(2500))"
      ]
     },
     "execution_count": 10,
     "metadata": {},
     "output_type": "execute_result"
    }
   ],
   "source": [
    "df_train[\"lang_name\"].isna().sum(), df_test[\"lang_name\"].isna().sum()"
   ]
  },
  {
   "cell_type": "code",
   "execution_count": 11,
   "metadata": {},
   "outputs": [
    {
     "data": {
      "text/html": [
       "<div>\n",
       "<style scoped>\n",
       "    .dataframe tbody tr th:only-of-type {\n",
       "        vertical-align: middle;\n",
       "    }\n",
       "\n",
       "    .dataframe tbody tr th {\n",
       "        vertical-align: top;\n",
       "    }\n",
       "\n",
       "    .dataframe thead th {\n",
       "        text-align: right;\n",
       "    }\n",
       "</style>\n",
       "<table border=\"1\" class=\"dataframe\">\n",
       "  <thead>\n",
       "    <tr style=\"text-align: right;\">\n",
       "      <th></th>\n",
       "      <th>sentence</th>\n",
       "      <th>label</th>\n",
       "      <th>label_ISO369-3</th>\n",
       "      <th>lang_name</th>\n",
       "    </tr>\n",
       "  </thead>\n",
       "  <tbody>\n",
       "    <tr>\n",
       "      <th>23</th>\n",
       "      <td>Lor (basa Indonesia:Utara, basa Inggris:North)...</td>\n",
       "      <td>142</td>\n",
       "      <td>map-bms</td>\n",
       "      <td>None</td>\n",
       "    </tr>\n",
       "    <tr>\n",
       "      <th>25</th>\n",
       "      <td>Meski kaya akan sumber daya alam lan manusia, ...</td>\n",
       "      <td>142</td>\n",
       "      <td>map-bms</td>\n",
       "      <td>None</td>\n",
       "    </tr>\n",
       "    <tr>\n",
       "      <th>51</th>\n",
       "      <td>1998年11月，一位中年女人自創燒炭自殺，將自己同燒烤爐封響沖涼房裏面。由於呢種方法之前，...</td>\n",
       "      <td>84</td>\n",
       "      <td>zh-yue</td>\n",
       "      <td>None</td>\n",
       "    </tr>\n",
       "    <tr>\n",
       "      <th>112</th>\n",
       "      <td>На лініі Слуцак — Старыя Дарогі працавалі тры ...</td>\n",
       "      <td>208</td>\n",
       "      <td>be-tarask</td>\n",
       "      <td>None</td>\n",
       "    </tr>\n",
       "    <tr>\n",
       "      <th>170</th>\n",
       "      <td>Börger is een dörp in de gemeeinte Börger-Orin...</td>\n",
       "      <td>186</td>\n",
       "      <td>nds-nl</td>\n",
       "      <td>None</td>\n",
       "    </tr>\n",
       "    <tr>\n",
       "      <th>...</th>\n",
       "      <td>...</td>\n",
       "      <td>...</td>\n",
       "      <td>...</td>\n",
       "      <td>...</td>\n",
       "    </tr>\n",
       "    <tr>\n",
       "      <th>117191</th>\n",
       "      <td>Krafft-Ebing was n earsten dee zee det biseksu...</td>\n",
       "      <td>186</td>\n",
       "      <td>nds-nl</td>\n",
       "      <td>None</td>\n",
       "    </tr>\n",
       "    <tr>\n",
       "      <th>117213</th>\n",
       "      <td>Расейскія вайсковыя часткі 7 красавіка 1995 го...</td>\n",
       "      <td>208</td>\n",
       "      <td>be-tarask</td>\n",
       "      <td>None</td>\n",
       "    </tr>\n",
       "    <tr>\n",
       "      <th>117252</th>\n",
       "      <td>Маўрыта́нія (па-арабску: موريتانيا‎, афіцыйная...</td>\n",
       "      <td>208</td>\n",
       "      <td>be-tarask</td>\n",
       "      <td>None</td>\n",
       "    </tr>\n",
       "    <tr>\n",
       "      <th>117260</th>\n",
       "      <td>n Basgitaar besteet nog nit zo lange, mear t o...</td>\n",
       "      <td>186</td>\n",
       "      <td>nds-nl</td>\n",
       "      <td>None</td>\n",
       "    </tr>\n",
       "    <tr>\n",
       "      <th>117473</th>\n",
       "      <td>Perkotaan metropolitan meliputi Perkotaan Sura...</td>\n",
       "      <td>142</td>\n",
       "      <td>map-bms</td>\n",
       "      <td>None</td>\n",
       "    </tr>\n",
       "  </tbody>\n",
       "</table>\n",
       "<p>2500 rows × 4 columns</p>\n",
       "</div>"
      ],
      "text/plain": [
       "                                                 sentence  label  \\\n",
       "23      Lor (basa Indonesia:Utara, basa Inggris:North)...    142   \n",
       "25      Meski kaya akan sumber daya alam lan manusia, ...    142   \n",
       "51      1998年11月，一位中年女人自創燒炭自殺，將自己同燒烤爐封響沖涼房裏面。由於呢種方法之前，...     84   \n",
       "112     На лініі Слуцак — Старыя Дарогі працавалі тры ...    208   \n",
       "170     Börger is een dörp in de gemeeinte Börger-Orin...    186   \n",
       "...                                                   ...    ...   \n",
       "117191  Krafft-Ebing was n earsten dee zee det biseksu...    186   \n",
       "117213  Расейскія вайсковыя часткі 7 красавіка 1995 го...    208   \n",
       "117252  Маўрыта́нія (па-арабску: موريتانيا‎, афіцыйная...    208   \n",
       "117260  n Basgitaar besteet nog nit zo lange, mear t o...    186   \n",
       "117473  Perkotaan metropolitan meliputi Perkotaan Sura...    142   \n",
       "\n",
       "       label_ISO369-3 lang_name  \n",
       "23            map-bms      None  \n",
       "25            map-bms      None  \n",
       "51             zh-yue      None  \n",
       "112         be-tarask      None  \n",
       "170            nds-nl      None  \n",
       "...               ...       ...  \n",
       "117191         nds-nl      None  \n",
       "117213      be-tarask      None  \n",
       "117252      be-tarask      None  \n",
       "117260         nds-nl      None  \n",
       "117473        map-bms      None  \n",
       "\n",
       "[2500 rows x 4 columns]"
      ]
     },
     "execution_count": 11,
     "metadata": {},
     "output_type": "execute_result"
    }
   ],
   "source": [
    "df_train[df_train[\"lang_name\"].isna()]"
   ]
  },
  {
   "cell_type": "code",
   "execution_count": 12,
   "metadata": {},
   "outputs": [
    {
     "data": {
      "text/plain": [
       "label_ISO369-3\n",
       "map-bms      500\n",
       "zh-yue       500\n",
       "be-tarask    500\n",
       "nds-nl       500\n",
       "roa-tara     500\n",
       "Name: count, dtype: int64"
      ]
     },
     "execution_count": 12,
     "metadata": {},
     "output_type": "execute_result"
    }
   ],
   "source": [
    "df_train[df_train[\"lang_name\"].isna()][\"label_ISO369-3\"].value_counts()"
   ]
  },
  {
   "cell_type": "code",
   "execution_count": 13,
   "metadata": {},
   "outputs": [
    {
     "data": {
      "text/plain": [
       "np.int64(2500)"
      ]
     },
     "execution_count": 13,
     "metadata": {},
     "output_type": "execute_result"
    }
   ],
   "source": [
    "df_train[\"label_ISO369-3\"].str.contains(\"-\").sum()"
   ]
  },
  {
   "cell_type": "code",
   "execution_count": 14,
   "metadata": {},
   "outputs": [
    {
     "data": {
      "text/plain": [
       "np.int64(500)"
      ]
     },
     "execution_count": 14,
     "metadata": {},
     "output_type": "execute_result"
    }
   ],
   "source": [
    "(df_train[\"label_ISO369-3\"] == \"nds\").sum()"
   ]
  },
  {
   "cell_type": "code",
   "execution_count": 15,
   "metadata": {},
   "outputs": [
    {
     "data": {
      "text/plain": [
       "Series([], Name: count, dtype: int64)"
      ]
     },
     "execution_count": 15,
     "metadata": {},
     "output_type": "execute_result"
    }
   ],
   "source": [
    "df_train[\"label_ISO369-3\"].value_counts()[[\n",
    "    # \"map\",\n",
    "    # \"map-bms\",\n",
    "    # \"zh\",\n",
    "    # \"zh-yue\",\n",
    "    # \"be\",\n",
    "    # \"be-tarask\",\n",
    "    # \"nds\",\n",
    "    # \"nds-nl\",\n",
    "    # \"roa\",\n",
    "    # \"roa-tara\",\n",
    "]]"
   ]
  },
  {
   "cell_type": "code",
   "execution_count": 16,
   "metadata": {},
   "outputs": [
    {
     "data": {
      "text/html": [
       "<div>\n",
       "<style scoped>\n",
       "    .dataframe tbody tr th:only-of-type {\n",
       "        vertical-align: middle;\n",
       "    }\n",
       "\n",
       "    .dataframe tbody tr th {\n",
       "        vertical-align: top;\n",
       "    }\n",
       "\n",
       "    .dataframe thead th {\n",
       "        text-align: right;\n",
       "    }\n",
       "</style>\n",
       "<table border=\"1\" class=\"dataframe\">\n",
       "  <thead>\n",
       "    <tr style=\"text-align: right;\">\n",
       "      <th></th>\n",
       "      <th>sentence</th>\n",
       "      <th>label</th>\n",
       "      <th>label_ISO369-3</th>\n",
       "      <th>lang_name</th>\n",
       "    </tr>\n",
       "  </thead>\n",
       "  <tbody>\n",
       "    <tr>\n",
       "      <th>0</th>\n",
       "      <td>Ne l fin de l seclo XIX l Japon era inda çconh...</td>\n",
       "      <td>8</td>\n",
       "      <td>mwl</td>\n",
       "      <td>Mirandese</td>\n",
       "    </tr>\n",
       "    <tr>\n",
       "      <th>1</th>\n",
       "      <td>Schiedam is gelegen tussen Rotterdam en Vlaard...</td>\n",
       "      <td>185</td>\n",
       "      <td>nld</td>\n",
       "      <td>Dutch</td>\n",
       "    </tr>\n",
       "    <tr>\n",
       "      <th>2</th>\n",
       "      <td>ГIурусаз батальонал, гьоркьор гIарадабиги лъун...</td>\n",
       "      <td>28</td>\n",
       "      <td>ava</td>\n",
       "      <td>Avaric</td>\n",
       "    </tr>\n",
       "    <tr>\n",
       "      <th>3</th>\n",
       "      <td>ರಾಜ್ಯಶಾಸ್ತ್ರದ ಪಿತಾಮಹೆ ಅರಿಸ್ಟಾಟಲ್. ರಾಜ್ಯಶಾಸ್ತ್ರ...</td>\n",
       "      <td>231</td>\n",
       "      <td>tcy</td>\n",
       "      <td>Tulu</td>\n",
       "    </tr>\n",
       "    <tr>\n",
       "      <th>4</th>\n",
       "      <td>Halukum adalah kelenjar tiroid nang menonjol d...</td>\n",
       "      <td>121</td>\n",
       "      <td>bjn</td>\n",
       "      <td>Banjar</td>\n",
       "    </tr>\n",
       "    <tr>\n",
       "      <th>...</th>\n",
       "      <td>...</td>\n",
       "      <td>...</td>\n",
       "      <td>...</td>\n",
       "      <td>...</td>\n",
       "    </tr>\n",
       "    <tr>\n",
       "      <th>117495</th>\n",
       "      <td>Wakati wa mimba,homa ya Q ni vigumu kutibu kwa...</td>\n",
       "      <td>32</td>\n",
       "      <td>swa</td>\n",
       "      <td>Swahili (macrolanguage)</td>\n",
       "    </tr>\n",
       "    <tr>\n",
       "      <th>117496</th>\n",
       "      <td>گیلون یک ته تاریخی منطقه‌ سفیدرود دلتای طرف ای...</td>\n",
       "      <td>1</td>\n",
       "      <td>glk</td>\n",
       "      <td>Gilaki</td>\n",
       "    </tr>\n",
       "    <tr>\n",
       "      <th>117497</th>\n",
       "      <td>តាម​រយៈ​ការ​ចិញ្ចឹម​មនោសញ្ចេតនា​ជាតិនិយម​បែប​ន...</td>\n",
       "      <td>73</td>\n",
       "      <td>khm</td>\n",
       "      <td>Khmer</td>\n",
       "    </tr>\n",
       "    <tr>\n",
       "      <th>117498</th>\n",
       "      <td>روس اک وفاق اے تے 1 مارچ 2008ء توں اسدیاں 83 و...</td>\n",
       "      <td>103</td>\n",
       "      <td>pnb</td>\n",
       "      <td>Western Panjabi</td>\n",
       "    </tr>\n",
       "    <tr>\n",
       "      <th>117499</th>\n",
       "      <td>Chute annaée-lo, la Normaundie n'est pus recou...</td>\n",
       "      <td>99</td>\n",
       "      <td>nrm</td>\n",
       "      <td>Narom</td>\n",
       "    </tr>\n",
       "  </tbody>\n",
       "</table>\n",
       "<p>117500 rows × 4 columns</p>\n",
       "</div>"
      ],
      "text/plain": [
       "                                                 sentence  label  \\\n",
       "0       Ne l fin de l seclo XIX l Japon era inda çconh...      8   \n",
       "1       Schiedam is gelegen tussen Rotterdam en Vlaard...    185   \n",
       "2       ГIурусаз батальонал, гьоркьор гIарадабиги лъун...     28   \n",
       "3       ರಾಜ್ಯಶಾಸ್ತ್ರದ ಪಿತಾಮಹೆ ಅರಿಸ್ಟಾಟಲ್. ರಾಜ್ಯಶಾಸ್ತ್ರ...    231   \n",
       "4       Halukum adalah kelenjar tiroid nang menonjol d...    121   \n",
       "...                                                   ...    ...   \n",
       "117495  Wakati wa mimba,homa ya Q ni vigumu kutibu kwa...     32   \n",
       "117496  گیلون یک ته تاریخی منطقه‌ سفیدرود دلتای طرف ای...      1   \n",
       "117497  តាម​រយៈ​ការ​ចិញ្ចឹម​មនោសញ្ចេតនា​ជាតិនិយម​បែប​ន...     73   \n",
       "117498  روس اک وفاق اے تے 1 مارچ 2008ء توں اسدیاں 83 و...    103   \n",
       "117499  Chute annaée-lo, la Normaundie n'est pus recou...     99   \n",
       "\n",
       "       label_ISO369-3                lang_name  \n",
       "0                 mwl                Mirandese  \n",
       "1                 nld                    Dutch  \n",
       "2                 ava                   Avaric  \n",
       "3                 tcy                     Tulu  \n",
       "4                 bjn                   Banjar  \n",
       "...               ...                      ...  \n",
       "117495            swa  Swahili (macrolanguage)  \n",
       "117496            glk                   Gilaki  \n",
       "117497            khm                    Khmer  \n",
       "117498            pnb          Western Panjabi  \n",
       "117499            nrm                    Narom  \n",
       "\n",
       "[117500 rows x 4 columns]"
      ]
     },
     "execution_count": 16,
     "metadata": {},
     "output_type": "execute_result"
    }
   ],
   "source": [
    "df_test"
   ]
  },
  {
   "cell_type": "code",
   "execution_count": 17,
   "metadata": {},
   "outputs": [
    {
     "data": {
      "text/plain": [
       "'Pod koniec kwietnia bateria została przeniesiona do Krakowa, a następnie do Puli. W następnych miesiącach brała udział w walkach na froncie serbskim, w czerwcu i lipcu 1915 roku w oblężeniu Modlina, później na froncie włoskim i ponownie serbskim. Kolejna akcja na froncie włoskim skończyła się uszkodzeniem działa. Naprawy dokonano w zakładach Škody w Pilźnie. Bateria otrzymała w zamian działo M.15 (numer 3). Powstała też kolejna bateria, która otrzymała czwarte wyprodukowane działo. Po remoncie działo numer dwa trafiło do nowo utworzonej trzeciej baterii. Dalszych dział tego typu nie produkowano, ponieważ gotowy był projekt lepiej przystosowanej do pełnienia funkcji działa polowego 42 cm Autohaubitze M.16.'"
      ]
     },
     "execution_count": 17,
     "metadata": {},
     "output_type": "execute_result"
    }
   ],
   "source": [
    "df_test[df_test[\"lang_name\"] == \"Polish\"].loc[116040][\"sentence\"]"
   ]
  },
  {
   "cell_type": "code",
   "execution_count": 18,
   "metadata": {},
   "outputs": [
    {
     "data": {
      "text/plain": [
       "label\n",
       "112    500\n",
       "93     500\n",
       "83     500\n",
       "176    500\n",
       "42     500\n",
       "      ... \n",
       "198    500\n",
       "204    500\n",
       "89     500\n",
       "64     500\n",
       "125    500\n",
       "Name: count, Length: 235, dtype: int64"
      ]
     },
     "execution_count": 18,
     "metadata": {},
     "output_type": "execute_result"
    }
   ],
   "source": [
    "df_train['label'].value_counts()"
   ]
  },
  {
   "cell_type": "code",
   "execution_count": 19,
   "metadata": {},
   "outputs": [
    {
     "data": {
      "text/plain": [
       "np.True_"
      ]
     },
     "execution_count": 19,
     "metadata": {},
     "output_type": "execute_result"
    }
   ],
   "source": [
    "(\n",
    "    df_train['label'].sort_values().value_counts() == df_test['label'].sort_values().value_counts()\n",
    ").all()"
   ]
  },
  {
   "cell_type": "code",
   "execution_count": 20,
   "metadata": {},
   "outputs": [
    {
     "data": {
      "text/plain": [
       "{'sentence': Value(dtype='string', id=None),\n",
       " 'label': ClassLabel(names=['cdo', 'glk', 'jam', 'lug', 'san', 'rue', 'wol', 'new', 'mwl', 'bre', 'ara', 'hye', 'xmf', 'ext', 'cor', 'yor', 'div', 'asm', 'lat', 'cym', 'hif', 'ace', 'kbd', 'tgk', 'rus', 'nso', 'mya', 'msa', 'ava', 'cbk', 'urd', 'deu', 'swa', 'pus', 'bxr', 'udm', 'csb', 'yid', 'vro', 'por', 'pdc', 'eng', 'tha', 'hat', 'lmo', 'pag', 'jav', 'chv', 'nan', 'sco', 'kat', 'bho', 'bos', 'kok', 'oss', 'mri', 'fry', 'cat', 'azb', 'kin', 'hin', 'sna', 'dan', 'egl', 'mkd', 'ron', 'bul', 'hrv', 'som', 'pam', 'nav', 'ksh', 'nci', 'khm', 'sgs', 'srn', 'bar', 'cos', 'ckb', 'pfl', 'arz', 'roa-tara', 'fra', 'mai', 'zh-yue', 'guj', 'fin', 'kir', 'vol', 'hau', 'afr', 'uig', 'lao', 'swe', 'slv', 'kor', 'szl', 'srp', 'dty', 'nrm', 'dsb', 'ind', 'wln', 'pnb', 'ukr', 'bpy', 'vie', 'tur', 'aym', 'lit', 'zea', 'pol', 'est', 'scn', 'vls', 'stq', 'gag', 'grn', 'kaz', 'ben', 'pcd', 'bjn', 'krc', 'amh', 'diq', 'ltz', 'ita', 'kab', 'bel', 'ang', 'mhr', 'che', 'koi', 'glv', 'ido', 'fao', 'bak', 'isl', 'bcl', 'tet', 'jpn', 'kur', 'map-bms', 'tyv', 'olo', 'arg', 'ori', 'lim', 'tel', 'lin', 'roh', 'sqi', 'xho', 'mlg', 'fas', 'hbs', 'tam', 'aze', 'lad', 'nob', 'sin', 'gla', 'nap', 'snd', 'ast', 'mal', 'mdf', 'tsn', 'nds', 'tgl', 'nno', 'sun', 'lzh', 'jbo', 'crh', 'pap', 'oci', 'hak', 'uzb', 'zho', 'hsb', 'sme', 'mlt', 'vep', 'lez', 'nld', 'nds-nl', 'mrj', 'spa', 'ceb', 'ina', 'heb', 'hun', 'que', 'kaa', 'mar', 'vec', 'frp', 'ell', 'sah', 'eus', 'ces', 'slk', 'chr', 'lij', 'nep', 'srd', 'ilo', 'be-tarask', 'bod', 'orm', 'war', 'glg', 'mon', 'gle', 'min', 'ibo', 'ile', 'epo', 'lav', 'lrc', 'als', 'mzn', 'rup', 'fur', 'tat', 'myv', 'pan', 'ton', 'kom', 'wuu', 'tcy', 'tuk', 'kan', 'ltg'], id=None)}"
      ]
     },
     "execution_count": 20,
     "metadata": {},
     "output_type": "execute_result"
    }
   ],
   "source": [
    "dataset[\"train\"].features  # label: ISO 369-3"
   ]
  },
  {
   "cell_type": "code",
   "execution_count": 21,
   "metadata": {},
   "outputs": [],
   "source": [
    "# \"pol\" in dataset[\"train\"].features[\"label\"].names"
   ]
  },
  {
   "cell_type": "code",
   "execution_count": 22,
   "metadata": {},
   "outputs": [
    {
     "data": {
      "text/plain": [
       "'pol'"
      ]
     },
     "execution_count": 22,
     "metadata": {},
     "output_type": "execute_result"
    }
   ],
   "source": [
    "dataset[\"train\"].features[\"label\"].str2int(\"pol\")\n",
    "dataset[\"train\"].features[\"label\"].int2str(111)"
   ]
  },
  {
   "cell_type": "code",
   "execution_count": 23,
   "metadata": {},
   "outputs": [
    {
     "data": {
      "text/plain": [
       "'pol'"
      ]
     },
     "execution_count": 23,
     "metadata": {},
     "output_type": "execute_result"
    }
   ],
   "source": [
    "from utils import translate_iso_639_1_to_639_3\n",
    "\n",
    "translate_iso_639_1_to_639_3(\"pl\")"
   ]
  },
  {
   "cell_type": "code",
   "execution_count": 24,
   "metadata": {},
   "outputs": [],
   "source": [
    "df_test.to_feather(\"data/wili_2018_test.feather\")"
   ]
  },
  {
   "cell_type": "code",
   "execution_count": null,
   "metadata": {},
   "outputs": [],
   "source": []
  }
 ],
 "metadata": {
  "kernelspec": {
   "display_name": "lang-detector",
   "language": "python",
   "name": "python3"
  },
  "language_info": {
   "codemirror_mode": {
    "name": "ipython",
    "version": 3
   },
   "file_extension": ".py",
   "mimetype": "text/x-python",
   "name": "python",
   "nbconvert_exporter": "python",
   "pygments_lexer": "ipython3",
   "version": "3.11.9"
  }
 },
 "nbformat": 4,
 "nbformat_minor": 2
}
