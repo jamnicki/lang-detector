{
 "cells": [
  {
   "cell_type": "code",
   "execution_count": 1,
   "metadata": {},
   "outputs": [],
   "source": [
    "from utils import translate_iso_639_1_to_639_3"
   ]
  },
  {
   "cell_type": "code",
   "execution_count": 2,
   "metadata": {},
   "outputs": [],
   "source": [
    "SAMPLE_TEXT = (\n",
    "    \"Yesterday, miałem naprawdę busy day w pracy. Było mnóstwo meetings\"\n",
    "    \" i deadlines, które musiałem dotrzymać. W połowie dnia, mój boss poprosił\"\n",
    "    \" mnie o przygotowanie prezentacji na bardzo ważny client meeting.\"\n",
    "    \" Spędziłem hours working on it, ensuring every detail był perfect.\"\n",
    "    \" When I finally finished, czułem się naprawdę exhausted.\"\n",
    ")"
   ]
  },
  {
   "cell_type": "markdown",
   "metadata": {},
   "source": [
    "## langdetect\n",
    "> https://github.com/Mimino666/langdetect\n",
    ">\n",
    "> Python wrapper for `language-detection` developed in Java (https://github.com/shuyo/language-detection). Approach description as slides - https://www.slideshare.net/slideshow/language-detection-library-for-java/6014274#1\n",
    ">\n",
    "> **TL;DR**: Naive Bayes algorithm and character n-grams as features; open source; tested on over 9,000 news articles in 49 languages with an accuracy of 99.77%; can be innacurate for short texts.\n",
    ">\n",
    "> License: Apache License 2.0"
   ]
  },
  {
   "cell_type": "code",
   "execution_count": 17,
   "metadata": {},
   "outputs": [],
   "source": [
    "import langdetect\n",
    "\n",
    "langdetect.DetectorFactory.seed = 0"
   ]
  },
  {
   "cell_type": "code",
   "execution_count": 18,
   "metadata": {},
   "outputs": [
    {
     "data": {
      "text/plain": [
       "{'pl': 0.8571418233629462, 'en': 0.14285650999355323}"
      ]
     },
     "execution_count": 18,
     "metadata": {},
     "output_type": "execute_result"
    }
   ],
   "source": [
    "langdetect_result = {\n",
    "    item.lang: item.prob\n",
    "    for item in langdetect.detect_langs(SAMPLE_TEXT)\n",
    "}\n",
    "langdetect_result"
   ]
  },
  {
   "cell_type": "code",
   "execution_count": 19,
   "metadata": {},
   "outputs": [
    {
     "data": {
      "text/plain": [
       "{'pol': 0.8571418233629462, 'eng': 0.14285650999355323}"
      ]
     },
     "execution_count": 19,
     "metadata": {},
     "output_type": "execute_result"
    }
   ],
   "source": [
    "langdetect_result_iso_639_3 = {\n",
    "    translate_iso_639_1_to_639_3(key): value\n",
    "    for key, value in langdetect_result.items()\n",
    "}\n",
    "langdetect_result_iso_639_3"
   ]
  },
  {
   "cell_type": "code",
   "execution_count": 20,
   "metadata": {},
   "outputs": [
    {
     "data": {
      "text/plain": [
       "'pol'"
      ]
     },
     "execution_count": 20,
     "metadata": {},
     "output_type": "execute_result"
    }
   ],
   "source": [
    "pred = max(langdetect_result_iso_639_3, key=langdetect_result_iso_639_3.get)\n",
    "pred"
   ]
  },
  {
   "cell_type": "code",
   "execution_count": 22,
   "metadata": {},
   "outputs": [
    {
     "data": {
      "text/plain": [
       "'pol'"
      ]
     },
     "execution_count": 22,
     "metadata": {},
     "output_type": "execute_result"
    }
   ],
   "source": [
    "pred = translate_iso_639_1_to_639_3(langdetect.detect(SAMPLE_TEXT))\n",
    "pred"
   ]
  },
  {
   "cell_type": "markdown",
   "metadata": {},
   "source": [
    "## lingua-py\n",
    "\n",
    "> https://github.com/pemistahl/lingua-py\n",
    ">\n",
    "> Python bindigs to `Lingua` implemented in Rust\n",
    ">\n",
    "> **TL;DR**: suitable for short text and mixed-language text; utilizes a language model based on character n-grams (1-5); supports multithreading\n",
    ">\n",
    "> License: Apache License 2.0"
   ]
  },
  {
   "cell_type": "code",
   "execution_count": 7,
   "metadata": {},
   "outputs": [],
   "source": [
    "from lingua import LanguageDetectorBuilder"
   ]
  },
  {
   "cell_type": "code",
   "execution_count": 8,
   "metadata": {},
   "outputs": [],
   "source": [
    "detector = (\n",
    "    LanguageDetectorBuilder.from_all_languages()\n",
    "    .with_preloaded_language_models()\n",
    "    # .with_low_accuracy_mode()  # for mostly long texts or need to save resources, enables a low accuracy mode that loads only a small subset of the language models into memory\n",
    "    .build())"
   ]
  },
  {
   "cell_type": "code",
   "execution_count": 9,
   "metadata": {},
   "outputs": [
    {
     "data": {
      "text/plain": [
       "[ConfidenceValue(language=Language.POLISH, value=1),\n",
       " ConfidenceValue(language=Language.TAGALOG, value=0.00000000000000000000000000000000109596124442021),\n",
       " ConfidenceValue(language=Language.LATIN, value=0.0000000000000000000000000000000000000000000000030292104252334643),\n",
       " ConfidenceValue(language=Language.AFRIKAANS, value=0.000000000000000000000000000000000000000000000000000000004528876621020498),\n",
       " ConfidenceValue(language=Language.BASQUE, value=0.00000000000000000000000000000000000000000000000000000000000000007637790572887204)]"
      ]
     },
     "execution_count": 9,
     "metadata": {},
     "output_type": "execute_result"
    }
   ],
   "source": [
    "lingua_result = detector.compute_language_confidence_values(SAMPLE_TEXT)\n",
    "lingua_result[:5]"
   ]
  },
  {
   "cell_type": "code",
   "execution_count": 31,
   "metadata": {},
   "outputs": [
    {
     "data": {
      "text/plain": [
       "[ConfidenceValue(language=Language.POLISH, value=1),\n",
       " ConfidenceValue(language=Language.TAGALOG, value=0.00000000000000000000000000000000109596124442021),\n",
       " ConfidenceValue(language=Language.LATIN, value=0.0000000000000000000000000000000000000000000000030292104252334643),\n",
       " ConfidenceValue(language=Language.AFRIKAANS, value=0.000000000000000000000000000000000000000000000000000000004528876621020498),\n",
       " ConfidenceValue(language=Language.BASQUE, value=0.00000000000000000000000000000000000000000000000000000000000000007637790572887204)]"
      ]
     },
     "execution_count": 31,
     "metadata": {},
     "output_type": "execute_result"
    }
   ],
   "source": [
    "lingua_result = sorted(lingua_result, key=lambda x: x.value, reverse=True)\n",
    "lingua_result[:5]"
   ]
  },
  {
   "cell_type": "code",
   "execution_count": 13,
   "metadata": {},
   "outputs": [
    {
     "data": {
      "text/plain": [
       "{'pol': 1.0}"
      ]
     },
     "execution_count": 13,
     "metadata": {},
     "output_type": "execute_result"
    }
   ],
   "source": [
    "det_threshold = 0.01\n",
    "\n",
    "lingua_result_iso_639_3 = {\n",
    "    item.language.iso_code_639_3.name.lower(): item.value\n",
    "    for item in lingua_result\n",
    "    if item.value > det_threshold\n",
    "}\n",
    "lingua_result_iso_639_3"
   ]
  },
  {
   "cell_type": "code",
   "execution_count": 11,
   "metadata": {},
   "outputs": [
    {
     "data": {
      "text/plain": [
       "'pol'"
      ]
     },
     "execution_count": 11,
     "metadata": {},
     "output_type": "execute_result"
    }
   ],
   "source": [
    "pred = max(lingua_result_iso_639_3, key=lingua_result_iso_639_3.get)\n",
    "pred"
   ]
  },
  {
   "cell_type": "code",
   "execution_count": null,
   "metadata": {},
   "outputs": [],
   "source": []
  },
  {
   "cell_type": "code",
   "execution_count": null,
   "metadata": {},
   "outputs": [],
   "source": []
  }
 ],
 "metadata": {
  "kernelspec": {
   "display_name": "lang-detector",
   "language": "python",
   "name": "python3"
  },
  "language_info": {
   "codemirror_mode": {
    "name": "ipython",
    "version": 3
   },
   "file_extension": ".py",
   "mimetype": "text/x-python",
   "name": "python",
   "nbconvert_exporter": "python",
   "pygments_lexer": "ipython3",
   "version": "3.11.9"
  }
 },
 "nbformat": 4,
 "nbformat_minor": 2
}
